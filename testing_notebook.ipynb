{
 "cells": [
  {
   "cell_type": "code",
   "execution_count": 1,
   "metadata": {},
   "outputs": [],
   "source": [
    "import geotime"
   ]
  },
  {
   "cell_type": "code",
   "execution_count": 3,
   "metadata": {},
   "outputs": [
    {
     "name": "stdout",
     "output_type": "stream",
     "text": [
      "IQIIQIIYAIQYAYRZaSJQJIIJABBJBIBIIIIAIAIA\n",
      "<precision>: <geo precision> m, <time precision> s | 1: 20037580.6 m, 1073741824.0 s | 2: 5009395.15 m, 268435456.0 s | 3: 1252348.7875 m, 67108864.0 s | 4: 313087.196875 m, 16777216.0 s | 5: 78271.79921875 m, 4194304.0 s | 6: 19567.9498046875 m, 1048576.0 s | 7: 4891.987451171875 m, 262144.0 s | 8: 1222.9968627929688 m, 65536.0 s | 9: 305.7492156982422 m, 16384.0 s | 10: 76.43730392456055 m, 4096.0 s | 11: 19.109325981140138 m, 1024.0 s | 12: 4.7773314952850345 m, 256.0 s | 13: 1.1943328738212586 m, 64.0 s | 14: 0.29858321845531466 m, 16.0 s | 15: 0.07464580461382866 m, 4.0 s | 16: 0.018661451153457166 m, 1.0 s | 17: 0.0046653627883642915 m, 0.25 s | 18: 0.0011663406970910729 m, 0.0625 s | 19: 0.0002915851742727682 m, 0.015625 s | 20: 7.289629356819206e-05 m, 0.00390625 s | 21: 3.644814678409603e-05 m, 0.001953125 s | 22: 1.8224073392048014e-05 m, 0.0009765625 s | 23: 9.112036696024007e-06 m, 0.00048828125 s | 24: 4.5560183480120035e-06 m, 0.000244140625 s | 25: 2.2780091740060017e-06 m, 0.0001220703125 s | 26: 1.1390045870030009e-06 m, 6.103515625e-05 s | 27: 5.695022935015004e-07 m, 3.0517578125e-05 s | 28: 2.847511467507502e-07 m, 1.52587890625e-05 s | 29: 1.423755733753751e-07 m, 7.62939453125e-06 s | 30: 7.118778668768755e-08 m, 3.814697265625e-06 s | 31: 3.559389334384378e-08 m, 1.9073486328125e-06 s | 32: 1.779694667192189e-08 m, 9.5367431640625e-07 s | 33: 8.898473335960944e-09 m, 4.76837158203125e-07 s | 34: 4.449236667980472e-09 m, 2.384185791015625e-07 s | 35: 2.224618333990236e-09 m, 1.1920928955078125e-07 s | 36: 1.112309166995118e-09 m, 5.960464477539063e-08 s | 37: 5.56154583497559e-10 m, 2.9802322387695312e-08 s | 38: 2.780772917487795e-10 m, 1.4901161193847656e-08 s | 39: 1.3903864587438975e-10 m, 7.450580596923828e-09 s | 40: 6.951932293719488e-11 m, 3.725290298461914e-09 s\n"
     ]
    }
   ],
   "source": [
    "my_geotime = geotime.geotime()\n",
    "my_geotime.geo = [38.9072, -77.0369]\n",
    "my_geotime.geo_precision = 60\n",
    "my_geotime.time = 1514764800 # January 1, 2018\n",
    "my_geotime.precision = 42\n",
    "print(my_geotime.encode())\n",
    "print(my_geotime.get_precision())"
   ]
  },
  {
   "cell_type": "code",
   "execution_count": 7,
   "metadata": {},
   "outputs": [
    {
     "name": "stdout",
     "output_type": "stream",
     "text": [
      "IQIIQIIYAJQZBYRYYRIQJIIJABBJBIBIIIIAIAIA\n"
     ]
    }
   ],
   "source": [
    "print(geotime.encode([38.9072, -77.0369],1514764800,60,42))"
   ]
  },
  {
   "cell_type": "code",
   "execution_count": null,
   "metadata": {
    "collapsed": true
   },
   "outputs": [],
   "source": []
  }
 ],
 "metadata": {
  "kernelspec": {
   "display_name": "Python 3",
   "language": "python",
   "name": "python3"
  },
  "language_info": {
   "codemirror_mode": {
    "name": "ipython",
    "version": 3
   },
   "file_extension": ".py",
   "mimetype": "text/x-python",
   "name": "python",
   "nbconvert_exporter": "python",
   "pygments_lexer": "ipython3",
   "version": "3.6.2"
  }
 },
 "nbformat": 4,
 "nbformat_minor": 2
}
